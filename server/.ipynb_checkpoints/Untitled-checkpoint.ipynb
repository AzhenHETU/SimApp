{
 "cells": [
  {
   "cell_type": "code",
   "execution_count": 1,
   "metadata": {},
   "outputs": [
    {
     "ename": "SyntaxError",
     "evalue": "Missing parentheses in call to 'print'. Did you mean print(\"It looks like you need a google api key\")? (routes.py, line 17)",
     "output_type": "error",
     "traceback": [
      "Traceback \u001b[0;36m(most recent call last)\u001b[0m:\n",
      "  File \u001b[1;32m\"/home/xyz/anaconda3/lib/python3.7/site-packages/IPython/core/interactiveshell.py\"\u001b[0m, line \u001b[1;32m3325\u001b[0m, in \u001b[1;35mrun_code\u001b[0m\n    exec(code_obj, self.user_global_ns, self.user_ns)\n",
      "  File \u001b[1;32m\"<ipython-input-1-b8ee38ee53e2>\"\u001b[0m, line \u001b[1;32m4\u001b[0m, in \u001b[1;35m<module>\u001b[0m\n    import tripgen\n",
      "  File \u001b[1;32m\"/home/xyz/Documents/DZ/SimApp/server/tripgen.py\"\u001b[0m, line \u001b[1;32m4\u001b[0m, in \u001b[1;35m<module>\u001b[0m\n    import trip\n",
      "\u001b[0;36m  File \u001b[0;32m\"/home/xyz/Documents/DZ/SimApp/server/trip.py\"\u001b[0;36m, line \u001b[0;32m4\u001b[0;36m, in \u001b[0;35m<module>\u001b[0;36m\u001b[0m\n\u001b[0;31m    import routes\u001b[0m\n",
      "\u001b[0;36m  File \u001b[0;32m\"/home/xyz/Documents/DZ/SimApp/server/routes.py\"\u001b[0;36m, line \u001b[0;32m17\u001b[0m\n\u001b[0;31m    print \"It looks like you need a google api key\"\u001b[0m\n\u001b[0m                                                  ^\u001b[0m\n\u001b[0;31mSyntaxError\u001b[0m\u001b[0;31m:\u001b[0m Missing parentheses in call to 'print'. Did you mean print(\"It looks like you need a google api key\")?\n"
     ]
    }
   ],
   "source": [
    "#!/usr/bin/env python\n",
    "## TODO a test case\n",
    "\n",
    "import tripgen\n",
    "import pev_sim\n",
    "import pprint\n",
    "import sim_util\n",
    "import routes\n",
    "\n",
    "import json\n",
    "\n",
    "routes.RouteFinder(\"google_api_key\", \".routes_cache\")\n",
    "\n",
    "env = pev_sim.Sim_env(3, None, (42.3492699,-71.0900377))\n",
    "\n",
    "testdata = tripgen.readNewburyTestData()\n",
    "\n",
    "for t in testdata:\n",
    "    print(\" \".join([\"Trip\", str(t.getID()), \"Time\", str(t.getTimeOrdered()), \"Pickup:\", str(t.getPickupLoc()), \"Dropoff\", str(t.getDest())]))\n",
    "\n",
    "env.schedule(None, testdata)\n",
    "\n",
    "pp = pprint.PrettyPrinter(indent=4)\n",
    "## pp.pprint(env.fleet.vehicles)\n",
    "print(json.dumps(env, default=sim_util.default_json, separators=(',', ':'), indent=4))"
   ]
  },
  {
   "cell_type": "code",
   "execution_count": null,
   "metadata": {},
   "outputs": [],
   "source": []
  }
 ],
 "metadata": {
  "kernelspec": {
   "display_name": "Python 3",
   "language": "python",
   "name": "python3"
  },
  "language_info": {
   "codemirror_mode": {
    "name": "ipython",
    "version": 3
   },
   "file_extension": ".py",
   "mimetype": "text/x-python",
   "name": "python",
   "nbconvert_exporter": "python",
   "pygments_lexer": "ipython3",
   "version": "3.7.3"
  }
 },
 "nbformat": 4,
 "nbformat_minor": 2
}
